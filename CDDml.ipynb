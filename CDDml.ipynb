{
  "nbformat": 4,
  "nbformat_minor": 0,
  "metadata": {
    "colab": {
      "name": "CDDml.ipynb",
      "provenance": [],
      "collapsed_sections": [
        "v_USI-4OGby7"
      ]
    },
    "kernelspec": {
      "name": "python3",
      "display_name": "Python 3"
    }
  },
  "cells": [
    {
      "cell_type": "markdown",
      "metadata": {
        "id": "SmjI9Ea_LTfh"
      },
      "source": [
        "## **Importando dados**"
      ]
    },
    {
      "cell_type": "code",
      "metadata": {
        "id": "vHpuS1C3eI3b"
      },
      "source": [
        "import pandas as pd\n",
        "import csv\n",
        "\n",
        "uri = 'cardio_train.csv' # disponível em https://www.kaggle.com/sulianova/cardiovascular-disease-dataset\n",
        "dados = pd.read_csv(uri, delimiter=';')"
      ],
      "execution_count": null,
      "outputs": []
    },
    {
      "cell_type": "markdown",
      "metadata": {
        "id": "iMt0Y_JkLbJT"
      },
      "source": [
        "## **Tratando e transformando dados**"
      ]
    },
    {
      "cell_type": "markdown",
      "metadata": {
        "id": "OpFK_QHTJ7T5"
      },
      "source": [
        "## **Modelos preditórios**"
      ]
    },
    {
      "cell_type": "code",
      "metadata": {
        "id": "DGSOJRFxKCVB"
      },
      "source": [
        "#Separando o dados que serão usados para treino e para teste\n",
        "\n",
        "import numpy as np\n",
        "from sklearn.model_selection import train_test_split\n",
        "from sklearn.svm import SVC\n",
        "from sklearn.metrics import accuracy_score\n",
        "\n",
        "\n",
        "x = dados[['age', 'gender', 'height', 'weight', 'ap_hi', 'ap_lo','cholesterol', 'gluc', 'smoke','alco', 'active']]\n",
        "y = dados['cardio']\n",
        "x.head()\n",
        " \n",
        "\n",
        "SEED = 20\n",
        "\n",
        "rawTreinoX, rawTesteX, treinoY, testeY = train_test_split(x, y, random_state  = SEED, stratify = y, test_size = 0.25)"
      ],
      "execution_count": null,
      "outputs": []
    },
    {
      "cell_type": "code",
      "metadata": {
        "colab": {
          "base_uri": "https://localhost:8080/"
        },
        "id": "tO5Ub4errONJ",
        "outputId": "5ebf6c18-9585-4c30-b208-a21d1823eb76"
      },
      "source": [
        "'''\n",
        "Dummy Classifier é um modelo de predição 'burro', ele constroi seu modelo através de simples regras. \n",
        "Isso é usado para criar uma baseline, por exemplo, qualquer modelo tem que ser melhor que esse, é um\n",
        "medida minima para precisão.\n",
        "'''\n",
        "\n",
        "from sklearn.dummy import DummyClassifier\n",
        "\n",
        "dummyStratified = DummyClassifier()\n",
        "dummyStratified.fit(rawTreinoX, treinoY)\n",
        "\n",
        "previsoes = dummyStratified.predict(rawTesteX)\n",
        "print(\"A acurácia alcançada pelo modelo Dummy Stratified foi %.2f%%\" % (accuracy_score(testeY, previsoes) * 100))\n"
      ],
      "execution_count": null,
      "outputs": [
        {
          "output_type": "stream",
          "text": [
            "A acurácia alcançada pelo modelo Dummy Stratified foi 50.54%\n"
          ],
          "name": "stdout"
        },
        {
          "output_type": "stream",
          "text": [
            "/usr/local/lib/python3.7/dist-packages/sklearn/dummy.py:132: FutureWarning: The default value of strategy will change from stratified to prior in 0.24.\n",
            "  \"stratified to prior in 0.24.\", FutureWarning)\n"
          ],
          "name": "stderr"
        }
      ]
    },
    {
      "cell_type": "code",
      "metadata": {
        "colab": {
          "base_uri": "https://localhost:8080/"
        },
        "id": "xdKKuUUZQn2M",
        "outputId": "c7117fe2-854a-4b1a-b596-65658e5d520e"
      },
      "source": [
        "#Esse é o modelo SVC usando os dados 'crus', antes de balancear como farei e explicarei na célula adiante. \n",
        "\n",
        "modeloSVCraw = SVC() \n",
        "modeloSVCraw.fit(rawTreinoX, treinoY)\n",
        "\n",
        "print(\"A acurácia alcançada pelo modelo SVC cru foi %.2f%%\" % (accuracy_score(testeY, modeloSVCraw.predict(rawTesteX)) * 100))\n",
        "previsaoModeloSVCraw = (accuracy_score(testeY, modeloSVCraw.predict(rawTesteX))"
      ],
      "execution_count": null,
      "outputs": [
        {
          "output_type": "stream",
          "text": [
            "A acurácia alcançada pelo modelo SVC cru foi 60.49%\n"
          ],
          "name": "stdout"
        }
      ]
    },
    {
      "cell_type": "code",
      "metadata": {
        "colab": {
          "base_uri": "https://localhost:8080/"
        },
        "id": "K1wvz0y4TTfd",
        "outputId": "746bd2b2-c886-4f91-b20c-df3acdb84123"
      },
      "source": [
        "'''\n",
        "  O escalonameto de dados é feito para alcançar uma maior precisão na predição, isso ajuda o algoritmo \n",
        "  ponderar o peso de cada feature na sua tabela, por exemplo, nessa própra tabela que estamos trabalhando\n",
        "  há o valor de idade em dias, que na maioria dos casos fica entre 15k ~ 20k, e a pressão sanguinea,\n",
        "  que nesse caso é representada por 1: normal, 2: acima do normal, 3: muito acima do normal. \n",
        "  O StandardScaler() transforma todos os valores, tipicamente, entre [0,1] ou [-1,1].\n",
        "'''\n",
        "\n",
        "from sklearn.preprocessing import StandardScaler\n",
        "\n",
        "scaler = StandardScaler()\n",
        "scaler.fit(rawTreinoX)\n",
        "treinoX = scaler.transform(rawTreinoX)\n",
        "testeX = scaler.transform(rawTesteX)\n",
        "\n",
        "modeloSVCsca = SVC() \n",
        "modeloSVCsca.fit(treinoX, treinoY)\n",
        "\n",
        "\n",
        "print(\"A acurácia alcançada pelo modelo SVC escalado uniformemente foi %.2f%%\" % (accuracy_score(testeY, modeloSVCsca.predict(testeX)) * 100))\n",
        "previsaoModeloSVCsca = (accuracy_score(testeY, modeloSVCsca.predict(testeX))\n",
        "\n"
      ],
      "execution_count": null,
      "outputs": [
        {
          "output_type": "stream",
          "text": [
            "A acurácia alcançada pelo modelo SVC escalado uniformemente foi 72.69%\n"
          ],
          "name": "stdout"
        }
      ]
    },
    {
      "cell_type": "markdown",
      "metadata": {
        "id": "wSzoYXOMl3L1"
      },
      "source": [
        "## **Analisando a árvore de decisão (Decision Tree)**"
      ]
    },
    {
      "cell_type": "code",
      "metadata": {
        "colab": {
          "base_uri": "https://localhost:8080/"
        },
        "id": "Zn_lh4AXl_JP",
        "outputId": "f38e46b5-6f48-40be-981c-846b0da9f940"
      },
      "source": [
        "from sklearn.tree import DecisionTreeClassifier\n",
        "\n",
        "modeloDTREE = DecisionTreeClassifier(max_depth=3) \n",
        "modeloDTREE.fit(rawTreinoX, treinoY)\n",
        "\n",
        "print(\"Treinaremos com %d elementos e testaremos com %d elementos\" %(len(treinoX), len(testeX)))\n",
        "\n",
        "print(\"A acurácia alcançada pelo modelo DecisionTreeClassifier escalado uniformemente foi %.2f%%\" % (accuracy_score(testeY, modeloDTREE.predict(rawTesteX)) * 100))"
      ],
      "execution_count": null,
      "outputs": [
        {
          "output_type": "stream",
          "text": [
            "Treinaremos com 52500 elementos e testaremos com 17500 elementos\n",
            "A acurácia alcançada pelo modelo DecisionTreeClassifier escalado uniformemente foi 72.33%\n"
          ],
          "name": "stdout"
        }
      ]
    },
    {
      "cell_type": "code",
      "metadata": {
        "colab": {
          "base_uri": "https://localhost:8080/",
          "height": 619
        },
        "id": "oJvW81SKx-l5",
        "outputId": "8c792b36-ccf2-4a26-bef6-1d4742d40a85"
      },
      "source": [
        "from sklearn.tree import export_graphviz\n",
        "import graphviz\n",
        "\n",
        "features = x.columns\n",
        "dot_data = export_graphviz(modeloDTREE, out_file=None,\n",
        "                           filled = True, rounded = True,\n",
        "                           feature_names = features,\n",
        "                           class_names = ['0', '1'])\n",
        "\n",
        "grafico = graphviz.Source(dot_data)\n",
        "grafico\n",
        "##aparentemente todos ap_hi <= 128.5 acabam recebendo 1"
      ],
      "execution_count": null,
      "outputs": [
        {
          "output_type": "execute_result",
          "data": {
            "text/plain": [
              "<graphviz.files.Source at 0x7f92f022e4d0>"
            ],
            "image/svg+xml": "<?xml version=\"1.0\" encoding=\"UTF-8\" standalone=\"no\"?>\n<!DOCTYPE svg PUBLIC \"-//W3C//DTD SVG 1.1//EN\"\n \"http://www.w3.org/Graphics/SVG/1.1/DTD/svg11.dtd\">\n<!-- Generated by graphviz version 2.40.1 (20161225.0304)\n -->\n<!-- Title: Tree Pages: 1 -->\n<svg width=\"1286pt\" height=\"433pt\"\n viewBox=\"0.00 0.00 1285.50 433.00\" xmlns=\"http://www.w3.org/2000/svg\" xmlns:xlink=\"http://www.w3.org/1999/xlink\">\n<g id=\"graph0\" class=\"graph\" transform=\"scale(1 1) rotate(0) translate(4 429)\">\n<title>Tree</title>\n<polygon fill=\"#ffffff\" stroke=\"transparent\" points=\"-4,4 -4,-429 1281.5,-429 1281.5,4 -4,4\"/>\n<!-- 0 -->\n<g id=\"node1\" class=\"node\">\n<title>0</title>\n<path fill=\"#ffffff\" stroke=\"#000000\" d=\"M701,-425C701,-425 560,-425 560,-425 554,-425 548,-419 548,-413 548,-413 548,-354 548,-354 548,-348 554,-342 560,-342 560,-342 701,-342 701,-342 707,-342 713,-348 713,-354 713,-354 713,-413 713,-413 713,-419 707,-425 701,-425\"/>\n<text text-anchor=\"middle\" x=\"630.5\" y=\"-409.8\" font-family=\"Helvetica,sans-Serif\" font-size=\"14.00\" fill=\"#000000\">ap_hi &lt;= 128.5</text>\n<text text-anchor=\"middle\" x=\"630.5\" y=\"-394.8\" font-family=\"Helvetica,sans-Serif\" font-size=\"14.00\" fill=\"#000000\">gini = 0.5</text>\n<text text-anchor=\"middle\" x=\"630.5\" y=\"-379.8\" font-family=\"Helvetica,sans-Serif\" font-size=\"14.00\" fill=\"#000000\">samples = 52500</text>\n<text text-anchor=\"middle\" x=\"630.5\" y=\"-364.8\" font-family=\"Helvetica,sans-Serif\" font-size=\"14.00\" fill=\"#000000\">value = [26266, 26234]</text>\n<text text-anchor=\"middle\" x=\"630.5\" y=\"-349.8\" font-family=\"Helvetica,sans-Serif\" font-size=\"14.00\" fill=\"#000000\">class = 0</text>\n</g>\n<!-- 1 -->\n<g id=\"node2\" class=\"node\">\n<title>1</title>\n<path fill=\"#f1bc95\" stroke=\"#000000\" d=\"M544,-306C544,-306 411,-306 411,-306 405,-306 399,-300 399,-294 399,-294 399,-235 399,-235 399,-229 405,-223 411,-223 411,-223 544,-223 544,-223 550,-223 556,-229 556,-235 556,-235 556,-294 556,-294 556,-300 550,-306 544,-306\"/>\n<text text-anchor=\"middle\" x=\"477.5\" y=\"-290.8\" font-family=\"Helvetica,sans-Serif\" font-size=\"14.00\" fill=\"#000000\">ageinyear &lt;= 54.5</text>\n<text text-anchor=\"middle\" x=\"477.5\" y=\"-275.8\" font-family=\"Helvetica,sans-Serif\" font-size=\"14.00\" fill=\"#000000\">gini = 0.434</text>\n<text text-anchor=\"middle\" x=\"477.5\" y=\"-260.8\" font-family=\"Helvetica,sans-Serif\" font-size=\"14.00\" fill=\"#000000\">samples = 30968</text>\n<text text-anchor=\"middle\" x=\"477.5\" y=\"-245.8\" font-family=\"Helvetica,sans-Serif\" font-size=\"14.00\" fill=\"#000000\">value = [21127, 9841]</text>\n<text text-anchor=\"middle\" x=\"477.5\" y=\"-230.8\" font-family=\"Helvetica,sans-Serif\" font-size=\"14.00\" fill=\"#000000\">class = 0</text>\n</g>\n<!-- 0&#45;&gt;1 -->\n<g id=\"edge1\" class=\"edge\">\n<title>0&#45;&gt;1</title>\n<path fill=\"none\" stroke=\"#000000\" d=\"M576.988,-341.8796C564.7588,-332.368 551.6656,-322.1843 539.1268,-312.432\"/>\n<polygon fill=\"#000000\" stroke=\"#000000\" points=\"541.0241,-309.4736 530.9818,-306.0969 536.7265,-314.9991 541.0241,-309.4736\"/>\n<text text-anchor=\"middle\" x=\"534.0826\" y=\"-327.2039\" font-family=\"Helvetica,sans-Serif\" font-size=\"14.00\" fill=\"#000000\">True</text>\n</g>\n<!-- 8 -->\n<g id=\"node9\" class=\"node\">\n<title>8</title>\n<path fill=\"#77bced\" stroke=\"#000000\" d=\"M862,-306C862,-306 729,-306 729,-306 723,-306 717,-300 717,-294 717,-294 717,-235 717,-235 717,-229 723,-223 729,-223 729,-223 862,-223 862,-223 868,-223 874,-229 874,-235 874,-235 874,-294 874,-294 874,-300 868,-306 862,-306\"/>\n<text text-anchor=\"middle\" x=\"795.5\" y=\"-290.8\" font-family=\"Helvetica,sans-Serif\" font-size=\"14.00\" fill=\"#000000\">ap_hi &lt;= 138.5</text>\n<text text-anchor=\"middle\" x=\"795.5\" y=\"-275.8\" font-family=\"Helvetica,sans-Serif\" font-size=\"14.00\" fill=\"#000000\">gini = 0.363</text>\n<text text-anchor=\"middle\" x=\"795.5\" y=\"-260.8\" font-family=\"Helvetica,sans-Serif\" font-size=\"14.00\" fill=\"#000000\">samples = 21532</text>\n<text text-anchor=\"middle\" x=\"795.5\" y=\"-245.8\" font-family=\"Helvetica,sans-Serif\" font-size=\"14.00\" fill=\"#000000\">value = [5139, 16393]</text>\n<text text-anchor=\"middle\" x=\"795.5\" y=\"-230.8\" font-family=\"Helvetica,sans-Serif\" font-size=\"14.00\" fill=\"#000000\">class = 1</text>\n</g>\n<!-- 0&#45;&gt;8 -->\n<g id=\"edge8\" class=\"edge\">\n<title>0&#45;&gt;8</title>\n<path fill=\"none\" stroke=\"#000000\" d=\"M688.209,-341.8796C701.523,-332.2774 715.7866,-321.9903 729.4259,-312.1534\"/>\n<polygon fill=\"#000000\" stroke=\"#000000\" points=\"731.7602,-314.7852 737.8236,-306.0969 727.6655,-309.1077 731.7602,-314.7852\"/>\n<text text-anchor=\"middle\" x=\"733.8264\" y=\"-327.0753\" font-family=\"Helvetica,sans-Serif\" font-size=\"14.00\" fill=\"#000000\">False</text>\n</g>\n<!-- 2 -->\n<g id=\"node3\" class=\"node\">\n<title>2</title>\n<path fill=\"#eda978\" stroke=\"#000000\" d=\"M308,-187C308,-187 175,-187 175,-187 169,-187 163,-181 163,-175 163,-175 163,-116 163,-116 163,-110 169,-104 175,-104 175,-104 308,-104 308,-104 314,-104 320,-110 320,-116 320,-116 320,-175 320,-175 320,-181 314,-187 308,-187\"/>\n<text text-anchor=\"middle\" x=\"241.5\" y=\"-171.8\" font-family=\"Helvetica,sans-Serif\" font-size=\"14.00\" fill=\"#000000\">cholesterol &lt;= 2.5</text>\n<text text-anchor=\"middle\" x=\"241.5\" y=\"-156.8\" font-family=\"Helvetica,sans-Serif\" font-size=\"14.00\" fill=\"#000000\">gini = 0.365</text>\n<text text-anchor=\"middle\" x=\"241.5\" y=\"-141.8\" font-family=\"Helvetica,sans-Serif\" font-size=\"14.00\" fill=\"#000000\">samples = 19165</text>\n<text text-anchor=\"middle\" x=\"241.5\" y=\"-126.8\" font-family=\"Helvetica,sans-Serif\" font-size=\"14.00\" fill=\"#000000\">value = [14563, 4602]</text>\n<text text-anchor=\"middle\" x=\"241.5\" y=\"-111.8\" font-family=\"Helvetica,sans-Serif\" font-size=\"14.00\" fill=\"#000000\">class = 0</text>\n</g>\n<!-- 1&#45;&gt;2 -->\n<g id=\"edge2\" class=\"edge\">\n<title>1&#45;&gt;2</title>\n<path fill=\"none\" stroke=\"#000000\" d=\"M398.9154,-224.8747C376.5428,-213.5936 352.0345,-201.2356 329.1584,-189.7006\"/>\n<polygon fill=\"#000000\" stroke=\"#000000\" points=\"330.6485,-186.5322 320.1435,-185.155 327.4968,-192.7826 330.6485,-186.5322\"/>\n</g>\n<!-- 5 -->\n<g id=\"node6\" class=\"node\">\n<title>5</title>\n<path fill=\"#fae6d7\" stroke=\"#000000\" d=\"M540,-187C540,-187 415,-187 415,-187 409,-187 403,-181 403,-175 403,-175 403,-116 403,-116 403,-110 409,-104 415,-104 415,-104 540,-104 540,-104 546,-104 552,-110 552,-116 552,-116 552,-175 552,-175 552,-181 546,-187 540,-187\"/>\n<text text-anchor=\"middle\" x=\"477.5\" y=\"-171.8\" font-family=\"Helvetica,sans-Serif\" font-size=\"14.00\" fill=\"#000000\">cholesterol &lt;= 2.5</text>\n<text text-anchor=\"middle\" x=\"477.5\" y=\"-156.8\" font-family=\"Helvetica,sans-Serif\" font-size=\"14.00\" fill=\"#000000\">gini = 0.494</text>\n<text text-anchor=\"middle\" x=\"477.5\" y=\"-141.8\" font-family=\"Helvetica,sans-Serif\" font-size=\"14.00\" fill=\"#000000\">samples = 11803</text>\n<text text-anchor=\"middle\" x=\"477.5\" y=\"-126.8\" font-family=\"Helvetica,sans-Serif\" font-size=\"14.00\" fill=\"#000000\">value = [6564, 5239]</text>\n<text text-anchor=\"middle\" x=\"477.5\" y=\"-111.8\" font-family=\"Helvetica,sans-Serif\" font-size=\"14.00\" fill=\"#000000\">class = 0</text>\n</g>\n<!-- 1&#45;&gt;5 -->\n<g id=\"edge5\" class=\"edge\">\n<title>1&#45;&gt;5</title>\n<path fill=\"none\" stroke=\"#000000\" d=\"M477.5,-222.8796C477.5,-214.6838 477.5,-205.9891 477.5,-197.5013\"/>\n<polygon fill=\"#000000\" stroke=\"#000000\" points=\"481.0001,-197.298 477.5,-187.2981 474.0001,-197.2981 481.0001,-197.298\"/>\n</g>\n<!-- 3 -->\n<g id=\"node4\" class=\"node\">\n<title>3</title>\n<path fill=\"#eda673\" stroke=\"#000000\" d=\"M145,-68C145,-68 12,-68 12,-68 6,-68 0,-62 0,-56 0,-56 0,-12 0,-12 0,-6 6,0 12,0 12,0 145,0 145,0 151,0 157,-6 157,-12 157,-12 157,-56 157,-56 157,-62 151,-68 145,-68\"/>\n<text text-anchor=\"middle\" x=\"78.5\" y=\"-52.8\" font-family=\"Helvetica,sans-Serif\" font-size=\"14.00\" fill=\"#000000\">gini = 0.349</text>\n<text text-anchor=\"middle\" x=\"78.5\" y=\"-37.8\" font-family=\"Helvetica,sans-Serif\" font-size=\"14.00\" fill=\"#000000\">samples = 18345</text>\n<text text-anchor=\"middle\" x=\"78.5\" y=\"-22.8\" font-family=\"Helvetica,sans-Serif\" font-size=\"14.00\" fill=\"#000000\">value = [14211, 4134]</text>\n<text text-anchor=\"middle\" x=\"78.5\" y=\"-7.8\" font-family=\"Helvetica,sans-Serif\" font-size=\"14.00\" fill=\"#000000\">class = 0</text>\n</g>\n<!-- 2&#45;&gt;3 -->\n<g id=\"edge3\" class=\"edge\">\n<title>2&#45;&gt;3</title>\n<path fill=\"none\" stroke=\"#000000\" d=\"M180.8048,-103.9815C166.353,-94.0957 150.9658,-83.5701 136.632,-73.7651\"/>\n<polygon fill=\"#000000\" stroke=\"#000000\" points=\"138.559,-70.8428 128.3292,-68.0856 134.6068,-76.6204 138.559,-70.8428\"/>\n</g>\n<!-- 4 -->\n<g id=\"node5\" class=\"node\">\n<title>4</title>\n<path fill=\"#cee7f9\" stroke=\"#000000\" d=\"M295.5,-68C295.5,-68 187.5,-68 187.5,-68 181.5,-68 175.5,-62 175.5,-56 175.5,-56 175.5,-12 175.5,-12 175.5,-6 181.5,0 187.5,0 187.5,0 295.5,0 295.5,0 301.5,0 307.5,-6 307.5,-12 307.5,-12 307.5,-56 307.5,-56 307.5,-62 301.5,-68 295.5,-68\"/>\n<text text-anchor=\"middle\" x=\"241.5\" y=\"-52.8\" font-family=\"Helvetica,sans-Serif\" font-size=\"14.00\" fill=\"#000000\">gini = 0.49</text>\n<text text-anchor=\"middle\" x=\"241.5\" y=\"-37.8\" font-family=\"Helvetica,sans-Serif\" font-size=\"14.00\" fill=\"#000000\">samples = 820</text>\n<text text-anchor=\"middle\" x=\"241.5\" y=\"-22.8\" font-family=\"Helvetica,sans-Serif\" font-size=\"14.00\" fill=\"#000000\">value = [352, 468]</text>\n<text text-anchor=\"middle\" x=\"241.5\" y=\"-7.8\" font-family=\"Helvetica,sans-Serif\" font-size=\"14.00\" fill=\"#000000\">class = 1</text>\n</g>\n<!-- 2&#45;&gt;4 -->\n<g id=\"edge4\" class=\"edge\">\n<title>2&#45;&gt;4</title>\n<path fill=\"none\" stroke=\"#000000\" d=\"M241.5,-103.9815C241.5,-95.618 241.5,-86.7965 241.5,-78.3409\"/>\n<polygon fill=\"#000000\" stroke=\"#000000\" points=\"245.0001,-78.2636 241.5,-68.2637 238.0001,-78.2637 245.0001,-78.2636\"/>\n</g>\n<!-- 6 -->\n<g id=\"node7\" class=\"node\">\n<title>6</title>\n<path fill=\"#f7dac4\" stroke=\"#000000\" d=\"M463,-68C463,-68 338,-68 338,-68 332,-68 326,-62 326,-56 326,-56 326,-12 326,-12 326,-6 332,0 338,0 338,0 463,0 463,0 469,0 475,-6 475,-12 475,-12 475,-56 475,-56 475,-62 469,-68 463,-68\"/>\n<text text-anchor=\"middle\" x=\"400.5\" y=\"-52.8\" font-family=\"Helvetica,sans-Serif\" font-size=\"14.00\" fill=\"#000000\">gini = 0.485</text>\n<text text-anchor=\"middle\" x=\"400.5\" y=\"-37.8\" font-family=\"Helvetica,sans-Serif\" font-size=\"14.00\" fill=\"#000000\">samples = 10564</text>\n<text text-anchor=\"middle\" x=\"400.5\" y=\"-22.8\" font-family=\"Helvetica,sans-Serif\" font-size=\"14.00\" fill=\"#000000\">value = [6200, 4364]</text>\n<text text-anchor=\"middle\" x=\"400.5\" y=\"-7.8\" font-family=\"Helvetica,sans-Serif\" font-size=\"14.00\" fill=\"#000000\">class = 0</text>\n</g>\n<!-- 5&#45;&gt;6 -->\n<g id=\"edge6\" class=\"edge\">\n<title>5&#45;&gt;6</title>\n<path fill=\"none\" stroke=\"#000000\" d=\"M448.828,-103.9815C442.6715,-95.0666 436.1557,-85.6313 429.9695,-76.6734\"/>\n<polygon fill=\"#000000\" stroke=\"#000000\" points=\"432.7245,-74.5034 424.1619,-68.2637 426.9645,-78.4811 432.7245,-74.5034\"/>\n</g>\n<!-- 7 -->\n<g id=\"node8\" class=\"node\">\n<title>7</title>\n<path fill=\"#8bc6f0\" stroke=\"#000000\" d=\"M613.5,-68C613.5,-68 505.5,-68 505.5,-68 499.5,-68 493.5,-62 493.5,-56 493.5,-56 493.5,-12 493.5,-12 493.5,-6 499.5,0 505.5,0 505.5,0 613.5,0 613.5,0 619.5,0 625.5,-6 625.5,-12 625.5,-12 625.5,-56 625.5,-56 625.5,-62 619.5,-68 613.5,-68\"/>\n<text text-anchor=\"middle\" x=\"559.5\" y=\"-52.8\" font-family=\"Helvetica,sans-Serif\" font-size=\"14.00\" fill=\"#000000\">gini = 0.415</text>\n<text text-anchor=\"middle\" x=\"559.5\" y=\"-37.8\" font-family=\"Helvetica,sans-Serif\" font-size=\"14.00\" fill=\"#000000\">samples = 1239</text>\n<text text-anchor=\"middle\" x=\"559.5\" y=\"-22.8\" font-family=\"Helvetica,sans-Serif\" font-size=\"14.00\" fill=\"#000000\">value = [364, 875]</text>\n<text text-anchor=\"middle\" x=\"559.5\" y=\"-7.8\" font-family=\"Helvetica,sans-Serif\" font-size=\"14.00\" fill=\"#000000\">class = 1</text>\n</g>\n<!-- 5&#45;&gt;7 -->\n<g id=\"edge7\" class=\"edge\">\n<title>5&#45;&gt;7</title>\n<path fill=\"none\" stroke=\"#000000\" d=\"M508.0338,-103.9815C514.6576,-94.9747 521.6721,-85.4367 528.3205,-76.3965\"/>\n<polygon fill=\"#000000\" stroke=\"#000000\" points=\"531.1966,-78.3933 534.3016,-68.2637 525.5574,-74.2461 531.1966,-78.3933\"/>\n</g>\n<!-- 9 -->\n<g id=\"node10\" class=\"node\">\n<title>9</title>\n<path fill=\"#bddef6\" stroke=\"#000000\" d=\"M858,-187C858,-187 733,-187 733,-187 727,-187 721,-181 721,-175 721,-175 721,-116 721,-116 721,-110 727,-104 733,-104 733,-104 858,-104 858,-104 864,-104 870,-110 870,-116 870,-116 870,-175 870,-175 870,-181 864,-187 858,-187\"/>\n<text text-anchor=\"middle\" x=\"795.5\" y=\"-171.8\" font-family=\"Helvetica,sans-Serif\" font-size=\"14.00\" fill=\"#000000\">cholesterol &lt;= 2.5</text>\n<text text-anchor=\"middle\" x=\"795.5\" y=\"-156.8\" font-family=\"Helvetica,sans-Serif\" font-size=\"14.00\" fill=\"#000000\">gini = 0.48</text>\n<text text-anchor=\"middle\" x=\"795.5\" y=\"-141.8\" font-family=\"Helvetica,sans-Serif\" font-size=\"14.00\" fill=\"#000000\">samples = 6968</text>\n<text text-anchor=\"middle\" x=\"795.5\" y=\"-126.8\" font-family=\"Helvetica,sans-Serif\" font-size=\"14.00\" fill=\"#000000\">value = [2783, 4185]</text>\n<text text-anchor=\"middle\" x=\"795.5\" y=\"-111.8\" font-family=\"Helvetica,sans-Serif\" font-size=\"14.00\" fill=\"#000000\">class = 1</text>\n</g>\n<!-- 8&#45;&gt;9 -->\n<g id=\"edge9\" class=\"edge\">\n<title>8&#45;&gt;9</title>\n<path fill=\"none\" stroke=\"#000000\" d=\"M795.5,-222.8796C795.5,-214.6838 795.5,-205.9891 795.5,-197.5013\"/>\n<polygon fill=\"#000000\" stroke=\"#000000\" points=\"799.0001,-197.298 795.5,-187.2981 792.0001,-197.2981 799.0001,-197.298\"/>\n</g>\n<!-- 12 -->\n<g id=\"node13\" class=\"node\">\n<title>12</title>\n<path fill=\"#5fb0ea\" stroke=\"#000000\" d=\"M1111,-187C1111,-187 978,-187 978,-187 972,-187 966,-181 966,-175 966,-175 966,-116 966,-116 966,-110 972,-104 978,-104 978,-104 1111,-104 1111,-104 1117,-104 1123,-110 1123,-116 1123,-116 1123,-175 1123,-175 1123,-181 1117,-187 1111,-187\"/>\n<text text-anchor=\"middle\" x=\"1044.5\" y=\"-171.8\" font-family=\"Helvetica,sans-Serif\" font-size=\"14.00\" fill=\"#000000\">ap_hi &lt;= 149.5</text>\n<text text-anchor=\"middle\" x=\"1044.5\" y=\"-156.8\" font-family=\"Helvetica,sans-Serif\" font-size=\"14.00\" fill=\"#000000\">gini = 0.271</text>\n<text text-anchor=\"middle\" x=\"1044.5\" y=\"-141.8\" font-family=\"Helvetica,sans-Serif\" font-size=\"14.00\" fill=\"#000000\">samples = 14564</text>\n<text text-anchor=\"middle\" x=\"1044.5\" y=\"-126.8\" font-family=\"Helvetica,sans-Serif\" font-size=\"14.00\" fill=\"#000000\">value = [2356, 12208]</text>\n<text text-anchor=\"middle\" x=\"1044.5\" y=\"-111.8\" font-family=\"Helvetica,sans-Serif\" font-size=\"14.00\" fill=\"#000000\">class = 1</text>\n</g>\n<!-- 8&#45;&gt;12 -->\n<g id=\"edge12\" class=\"edge\">\n<title>8&#45;&gt;12</title>\n<path fill=\"none\" stroke=\"#000000\" d=\"M874.2852,-226.8477C900.4128,-214.361 929.6597,-200.3835 956.4399,-187.585\"/>\n<polygon fill=\"#000000\" stroke=\"#000000\" points=\"958.287,-190.5814 965.8003,-183.1115 955.2685,-184.2656 958.287,-190.5814\"/>\n</g>\n<!-- 10 -->\n<g id=\"node11\" class=\"node\">\n<title>10</title>\n<path fill=\"#d8ecfa\" stroke=\"#000000\" d=\"M781,-68C781,-68 656,-68 656,-68 650,-68 644,-62 644,-56 644,-56 644,-12 644,-12 644,-6 650,0 656,0 656,0 781,0 781,0 787,0 793,-6 793,-12 793,-12 793,-56 793,-56 793,-62 787,-68 781,-68\"/>\n<text text-anchor=\"middle\" x=\"718.5\" y=\"-52.8\" font-family=\"Helvetica,sans-Serif\" font-size=\"14.00\" fill=\"#000000\">gini = 0.494</text>\n<text text-anchor=\"middle\" x=\"718.5\" y=\"-37.8\" font-family=\"Helvetica,sans-Serif\" font-size=\"14.00\" fill=\"#000000\">samples = 5669</text>\n<text text-anchor=\"middle\" x=\"718.5\" y=\"-22.8\" font-family=\"Helvetica,sans-Serif\" font-size=\"14.00\" fill=\"#000000\">value = [2526, 3143]</text>\n<text text-anchor=\"middle\" x=\"718.5\" y=\"-7.8\" font-family=\"Helvetica,sans-Serif\" font-size=\"14.00\" fill=\"#000000\">class = 1</text>\n</g>\n<!-- 9&#45;&gt;10 -->\n<g id=\"edge10\" class=\"edge\">\n<title>9&#45;&gt;10</title>\n<path fill=\"none\" stroke=\"#000000\" d=\"M766.828,-103.9815C760.6715,-95.0666 754.1557,-85.6313 747.9695,-76.6734\"/>\n<polygon fill=\"#000000\" stroke=\"#000000\" points=\"750.7245,-74.5034 742.1619,-68.2637 744.9645,-78.4811 750.7245,-74.5034\"/>\n</g>\n<!-- 11 -->\n<g id=\"node12\" class=\"node\">\n<title>11</title>\n<path fill=\"#6ab5eb\" stroke=\"#000000\" d=\"M939.5,-68C939.5,-68 823.5,-68 823.5,-68 817.5,-68 811.5,-62 811.5,-56 811.5,-56 811.5,-12 811.5,-12 811.5,-6 817.5,0 823.5,0 823.5,0 939.5,0 939.5,0 945.5,0 951.5,-6 951.5,-12 951.5,-12 951.5,-56 951.5,-56 951.5,-62 945.5,-68 939.5,-68\"/>\n<text text-anchor=\"middle\" x=\"881.5\" y=\"-52.8\" font-family=\"Helvetica,sans-Serif\" font-size=\"14.00\" fill=\"#000000\">gini = 0.317</text>\n<text text-anchor=\"middle\" x=\"881.5\" y=\"-37.8\" font-family=\"Helvetica,sans-Serif\" font-size=\"14.00\" fill=\"#000000\">samples = 1299</text>\n<text text-anchor=\"middle\" x=\"881.5\" y=\"-22.8\" font-family=\"Helvetica,sans-Serif\" font-size=\"14.00\" fill=\"#000000\">value = [257, 1042]</text>\n<text text-anchor=\"middle\" x=\"881.5\" y=\"-7.8\" font-family=\"Helvetica,sans-Serif\" font-size=\"14.00\" fill=\"#000000\">class = 1</text>\n</g>\n<!-- 9&#45;&gt;11 -->\n<g id=\"edge11\" class=\"edge\">\n<title>9&#45;&gt;11</title>\n<path fill=\"none\" stroke=\"#000000\" d=\"M827.5232,-103.9815C834.4702,-94.9747 841.8269,-85.4367 848.7996,-76.3965\"/>\n<polygon fill=\"#000000\" stroke=\"#000000\" points=\"851.7364,-78.3196 855.0724,-68.2637 846.1936,-74.0444 851.7364,-78.3196\"/>\n</g>\n<!-- 13 -->\n<g id=\"node14\" class=\"node\">\n<title>13</title>\n<path fill=\"#67b4eb\" stroke=\"#000000\" d=\"M1107,-68C1107,-68 982,-68 982,-68 976,-68 970,-62 970,-56 970,-56 970,-12 970,-12 970,-6 976,0 982,0 982,0 1107,0 1107,0 1113,0 1119,-6 1119,-12 1119,-12 1119,-56 1119,-56 1119,-62 1113,-68 1107,-68\"/>\n<text text-anchor=\"middle\" x=\"1044.5\" y=\"-52.8\" font-family=\"Helvetica,sans-Serif\" font-size=\"14.00\" fill=\"#000000\">gini = 0.304</text>\n<text text-anchor=\"middle\" x=\"1044.5\" y=\"-37.8\" font-family=\"Helvetica,sans-Serif\" font-size=\"14.00\" fill=\"#000000\">samples = 7384</text>\n<text text-anchor=\"middle\" x=\"1044.5\" y=\"-22.8\" font-family=\"Helvetica,sans-Serif\" font-size=\"14.00\" fill=\"#000000\">value = [1380, 6004]</text>\n<text text-anchor=\"middle\" x=\"1044.5\" y=\"-7.8\" font-family=\"Helvetica,sans-Serif\" font-size=\"14.00\" fill=\"#000000\">class = 1</text>\n</g>\n<!-- 12&#45;&gt;13 -->\n<g id=\"edge13\" class=\"edge\">\n<title>12&#45;&gt;13</title>\n<path fill=\"none\" stroke=\"#000000\" d=\"M1044.5,-103.9815C1044.5,-95.618 1044.5,-86.7965 1044.5,-78.3409\"/>\n<polygon fill=\"#000000\" stroke=\"#000000\" points=\"1048.0001,-78.2636 1044.5,-68.2637 1041.0001,-78.2637 1048.0001,-78.2636\"/>\n</g>\n<!-- 14 -->\n<g id=\"node15\" class=\"node\">\n<title>14</title>\n<path fill=\"#58ace9\" stroke=\"#000000\" d=\"M1265.5,-68C1265.5,-68 1149.5,-68 1149.5,-68 1143.5,-68 1137.5,-62 1137.5,-56 1137.5,-56 1137.5,-12 1137.5,-12 1137.5,-6 1143.5,0 1149.5,0 1149.5,0 1265.5,0 1265.5,0 1271.5,0 1277.5,-6 1277.5,-12 1277.5,-12 1277.5,-56 1277.5,-56 1277.5,-62 1271.5,-68 1265.5,-68\"/>\n<text text-anchor=\"middle\" x=\"1207.5\" y=\"-52.8\" font-family=\"Helvetica,sans-Serif\" font-size=\"14.00\" fill=\"#000000\">gini = 0.235</text>\n<text text-anchor=\"middle\" x=\"1207.5\" y=\"-37.8\" font-family=\"Helvetica,sans-Serif\" font-size=\"14.00\" fill=\"#000000\">samples = 7180</text>\n<text text-anchor=\"middle\" x=\"1207.5\" y=\"-22.8\" font-family=\"Helvetica,sans-Serif\" font-size=\"14.00\" fill=\"#000000\">value = [976, 6204]</text>\n<text text-anchor=\"middle\" x=\"1207.5\" y=\"-7.8\" font-family=\"Helvetica,sans-Serif\" font-size=\"14.00\" fill=\"#000000\">class = 1</text>\n</g>\n<!-- 12&#45;&gt;14 -->\n<g id=\"edge14\" class=\"edge\">\n<title>12&#45;&gt;14</title>\n<path fill=\"none\" stroke=\"#000000\" d=\"M1105.1952,-103.9815C1119.647,-94.0957 1135.0342,-83.5701 1149.368,-73.7651\"/>\n<polygon fill=\"#000000\" stroke=\"#000000\" points=\"1151.3932,-76.6204 1157.6708,-68.0856 1147.441,-70.8428 1151.3932,-76.6204\"/>\n</g>\n</g>\n</svg>\n"
          },
          "metadata": {
            "tags": []
          },
          "execution_count": 14
        }
      ]
    },
    {
      "cell_type": "code",
      "metadata": {
        "colab": {
          "base_uri": "https://localhost:8080/"
        },
        "id": "sRBmJ8rH_hlm",
        "outputId": "a971ea95-a3d6-498d-a67b-5b3292f49f88"
      },
      "source": [
        "dadosDF = pd.DataFrame(dados)\n",
        "\n",
        "print( 'Apenas %.2f%% dos casos com a pressão diastólica maior que 128.5 não tem problemas, como podemos ver na árvore de decisão a tendência'\n",
        "     %(((dadosDF[(dadosDF['cardio'] == 0) & (dadosDF['ap_hi'] > 128.5)].value_counts().sum())/(len(dadosDF)))*100)\n",
        "      )\n"
      ],
      "execution_count": null,
      "outputs": [
        {
          "output_type": "stream",
          "text": [
            "Apenas 9.81% dos casos com a pressão diastólica maior que 128.5 não tem problemas, como podemos ver na árvore de decisão a tendência\n"
          ],
          "name": "stdout"
        }
      ]
    },
    {
      "cell_type": "markdown",
      "metadata": {
        "id": "euPNGYAsarJO"
      },
      "source": [
        "## **Entrada de dados únicos para predição**"
      ]
    },
    {
      "cell_type": "code",
      "metadata": {
        "id": "pZ5s2-8epV8I"
      },
      "source": [
        "def preverSVCsca(caso):\n",
        "  previsao = (modeloSVCsca.predict(caso))\n",
        "\n",
        "  if previsao == 0:\n",
        "    print('Há uma possibilidade de %.2f%% de você não ter problemas cardiovasculares.' %(accuracy_score(testeY, previsaoModeloSVCsca) * 100), previsoes)\n",
        "  else:\n",
        "    print('Há uma possibilidade de %.2f%% de você ter problemas cardiovasculares.' %(accuracy_score(testeY, previsaoModeloSVCsca) * 100), previsoes)\n",
        "\n",
        "def preverSVCraw(caso):\n",
        "  previsao = (modeloSVCraw.predict(caso))\n",
        "\n",
        "  if previsao == 0:\n",
        "    print('Há uma possibilidade de %.2f%% de você não ter problemas cardiovasculares.' %(accuracy_score(testeY, previsaoModeloSVCraw) * 100), previsoes)\n",
        "  else:\n",
        "    print('Há uma possibilidade de %.2f%% de você ter problemas cardiovasculares.' %(accuracy_score(testeY, previsaoModeloSVCraw) * 100), previsoes)"
      ],
      "execution_count": null,
      "outputs": []
    },
    {
      "cell_type": "code",
      "metadata": {
        "id": "8FYCqws_bGgs"
      },
      "source": [
        "'''\n",
        " Para prever com o modeloSVCsca use preverSVCsca()\n",
        " Para prever com o modeloSVCraw use preverSVCraw()\n",
        "\n",
        " Exemplo de entrada: [['1', '156', '56.0', '100', '60', '1', '1', '0', '0', '0', '48']]\n",
        "'''\n"
      ],
      "execution_count": null,
      "outputs": []
    }
  ]
}